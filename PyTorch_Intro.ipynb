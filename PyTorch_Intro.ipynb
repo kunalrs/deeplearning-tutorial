{
  "nbformat": 4,
  "nbformat_minor": 0,
  "metadata": {
    "colab": {
      "name": "PyTorch-Intro.ipynb",
      "provenance": [],
      "collapsed_sections": []
    },
    "kernelspec": {
      "name": "python3",
      "display_name": "Python 3"
    },
    "language_info": {
      "name": "python"
    },
    "accelerator": "GPU"
  },
  "cells": [
    {
      "cell_type": "markdown",
      "metadata": {
        "id": "b2JWYfI_WuxL"
      },
      "source": [
        "# Outline\n",
        "\n",
        "- PyTorch\n",
        "- What are tensors\n",
        "- Initialising, slicing, reshaing tensors\n",
        "- Numpy and PyTorch interfacing\n",
        "- GPU support on PyTorch + enabling GPUs on Colab\n",
        "- Speed comparision - NumPy vs PyTorch vs PyTorch GPU\n",
        "- Autograd concept and application\n",
        "- Writting a basic learning loop using autograd\n",
        "- Exercise"
      ]
    },
    {
      "cell_type": "code",
      "metadata": {
        "id": "71sQmS00WgYT"
      },
      "source": [
        "import torch\n",
        "import numpy as np\n",
        "import matplotlib.pyplot as plt\n",
        "import tqdm"
      ],
      "execution_count": 3,
      "outputs": []
    },
    {
      "cell_type": "markdown",
      "metadata": {
        "id": "g8HduSkjYxB_"
      },
      "source": [
        "# Initilising Tensors"
      ]
    },
    {
      "cell_type": "code",
      "metadata": {
        "id": "xASLlkNFYvhL",
        "colab": {
          "base_uri": "https://localhost:8080/"
        },
        "outputId": "163b25fc-1b42-4805-ee93-1f3e8b5788f6"
      },
      "source": [
        "x = torch.ones(3, 2)\n",
        "print(x)\n",
        "x = torch.zeros(3, 2)\n",
        "print(x)\n",
        "x = torch.rand(3, 2)\n",
        "print(x)"
      ],
      "execution_count": null,
      "outputs": [
        {
          "output_type": "stream",
          "text": [
            "tensor([[1., 1.],\n",
            "        [1., 1.],\n",
            "        [1., 1.]])\n",
            "tensor([[0., 0.],\n",
            "        [0., 0.],\n",
            "        [0., 0.]])\n",
            "tensor([[0.9072, 0.8992],\n",
            "        [0.1805, 0.2700],\n",
            "        [0.0277, 0.9003]])\n"
          ],
          "name": "stdout"
        }
      ]
    },
    {
      "cell_type": "code",
      "metadata": {
        "colab": {
          "base_uri": "https://localhost:8080/"
        },
        "id": "IdMRiBbhc4T_",
        "outputId": "b42666d0-3345-4854-eb40-b97741cf6c18"
      },
      "source": [
        "x = torch.empty(3, 2)\n",
        "print(x)\n",
        "\n",
        "y = torch.zeros_like(x)\n",
        "print(y)"
      ],
      "execution_count": null,
      "outputs": [
        {
          "output_type": "stream",
          "text": [
            "tensor([[-2.7373e-25,  3.0802e-41],\n",
            "        [ 0.0000e+00,  0.0000e+00],\n",
            "        [ 0.0000e+00,  0.0000e+00]])\n",
            "tensor([[0., 0.],\n",
            "        [0., 0.],\n",
            "        [0., 0.]])\n"
          ],
          "name": "stdout"
        }
      ]
    },
    {
      "cell_type": "code",
      "metadata": {
        "colab": {
          "base_uri": "https://localhost:8080/"
        },
        "id": "wAYnLINsdVEb",
        "outputId": "e28ff775-fdb1-4f9e-dc7b-6eb7a826369c"
      },
      "source": [
        "x = torch.linspace(0, 1, steps=25)\n",
        "print(x)"
      ],
      "execution_count": null,
      "outputs": [
        {
          "output_type": "stream",
          "text": [
            "tensor([0.0000, 0.0417, 0.0833, 0.1250, 0.1667, 0.2083, 0.2500, 0.2917, 0.3333,\n",
            "        0.3750, 0.4167, 0.4583, 0.5000, 0.5417, 0.5833, 0.6250, 0.6667, 0.7083,\n",
            "        0.7500, 0.7917, 0.8333, 0.8750, 0.9167, 0.9583, 1.0000])\n"
          ],
          "name": "stdout"
        }
      ]
    },
    {
      "cell_type": "code",
      "metadata": {
        "colab": {
          "base_uri": "https://localhost:8080/"
        },
        "id": "n3NVhQe0dj2Z",
        "outputId": "879bf1d5-c46e-4303-9dea-76247b5fe7a5"
      },
      "source": [
        "x = torch.tensor([[1, 2],\n",
        "                  [3, 4],\n",
        "                  [5, 6]\n",
        "                ])\n",
        "print(x)"
      ],
      "execution_count": null,
      "outputs": [
        {
          "output_type": "stream",
          "text": [
            "tensor([[1, 2],\n",
            "        [3, 4],\n",
            "        [5, 6]])\n"
          ],
          "name": "stdout"
        }
      ]
    },
    {
      "cell_type": "markdown",
      "metadata": {
        "id": "_zsSshTdd632"
      },
      "source": [
        "# Slicing"
      ]
    },
    {
      "cell_type": "code",
      "metadata": {
        "colab": {
          "base_uri": "https://localhost:8080/"
        },
        "id": "ynTrvDM9dyS3",
        "outputId": "856a5ba9-5073-4a1b-b4da-1a4432a82814"
      },
      "source": [
        "x[0:2,:]"
      ],
      "execution_count": null,
      "outputs": [
        {
          "output_type": "execute_result",
          "data": {
            "text/plain": [
              "tensor([[1, 2],\n",
              "        [3, 4]])"
            ]
          },
          "metadata": {
            "tags": []
          },
          "execution_count": 27
        }
      ]
    },
    {
      "cell_type": "code",
      "metadata": {
        "colab": {
          "base_uri": "https://localhost:8080/"
        },
        "id": "fuBoKyMAd_9f",
        "outputId": "d2488621-c737-4683-ce55-ce9601b3f9f4"
      },
      "source": [
        "y = x[1, 1]\n",
        "print(y)\n",
        "print(y.item())"
      ],
      "execution_count": null,
      "outputs": [
        {
          "output_type": "stream",
          "text": [
            "tensor(4)\n",
            "4\n"
          ],
          "name": "stdout"
        }
      ]
    },
    {
      "cell_type": "markdown",
      "metadata": {
        "id": "DhYBl6Ege5P5"
      },
      "source": [
        "# Reshaping Tensors"
      ]
    },
    {
      "cell_type": "code",
      "metadata": {
        "colab": {
          "base_uri": "https://localhost:8080/"
        },
        "id": "0mGEUW8NegEx",
        "outputId": "cefe57c7-ca03-4e30-d6c6-43561a9e2772"
      },
      "source": [
        "print(x)\n",
        "x.view(2,3)"
      ],
      "execution_count": null,
      "outputs": [
        {
          "output_type": "stream",
          "text": [
            "tensor([[1, 2],\n",
            "        [3, 4],\n",
            "        [5, 6]])\n"
          ],
          "name": "stdout"
        },
        {
          "output_type": "execute_result",
          "data": {
            "text/plain": [
              "tensor([[1, 2, 3],\n",
              "        [4, 5, 6]])"
            ]
          },
          "metadata": {
            "tags": []
          },
          "execution_count": 30
        }
      ]
    },
    {
      "cell_type": "code",
      "metadata": {
        "colab": {
          "base_uri": "https://localhost:8080/"
        },
        "id": "cj4oOHpHe__2",
        "outputId": "3b2d0db2-6a35-4fb9-fcde-493f66ccd6fd"
      },
      "source": [
        "x.view(6, -1)"
      ],
      "execution_count": null,
      "outputs": [
        {
          "output_type": "execute_result",
          "data": {
            "text/plain": [
              "tensor([[1],\n",
              "        [2],\n",
              "        [3],\n",
              "        [4],\n",
              "        [5],\n",
              "        [6]])"
            ]
          },
          "metadata": {
            "tags": []
          },
          "execution_count": 37
        }
      ]
    },
    {
      "cell_type": "code",
      "metadata": {
        "colab": {
          "base_uri": "https://localhost:8080/"
        },
        "id": "rWrJ4jWjfLgm",
        "outputId": "91500b02-44dc-4b8c-fd12-cb08cda05088"
      },
      "source": [
        "x.T"
      ],
      "execution_count": null,
      "outputs": [
        {
          "output_type": "execute_result",
          "data": {
            "text/plain": [
              "tensor([[1, 3, 5],\n",
              "        [2, 4, 6]])"
            ]
          },
          "metadata": {
            "tags": []
          },
          "execution_count": 38
        }
      ]
    },
    {
      "cell_type": "markdown",
      "metadata": {
        "id": "Y_vxEecLf9zJ"
      },
      "source": [
        "# Simple Tensor Operations"
      ]
    },
    {
      "cell_type": "code",
      "metadata": {
        "colab": {
          "base_uri": "https://localhost:8080/"
        },
        "id": "PQAnmh_iffTB",
        "outputId": "35ee4709-618d-4a65-ad54-e3a15ca38691"
      },
      "source": [
        "x = torch.ones(3, 2)\n",
        "y = torch.ones(3, 2)\n",
        "print(x + y)\n",
        "print(x - y)\n",
        "print(x * y)"
      ],
      "execution_count": null,
      "outputs": [
        {
          "output_type": "stream",
          "text": [
            "tensor([[2., 2.],\n",
            "        [2., 2.],\n",
            "        [2., 2.]])\n",
            "tensor([[0., 0.],\n",
            "        [0., 0.],\n",
            "        [0., 0.]])\n",
            "tensor([[1., 1.],\n",
            "        [1., 1.],\n",
            "        [1., 1.]])\n"
          ],
          "name": "stdout"
        }
      ]
    },
    {
      "cell_type": "code",
      "metadata": {
        "colab": {
          "base_uri": "https://localhost:8080/"
        },
        "id": "ypDtlTWpgSAq",
        "outputId": "093c06d0-d1df-4eff-c2ad-ce33d78e9688"
      },
      "source": [
        "z = y.add(x)\n",
        "print(z)\n",
        "print(y)\n",
        "print(\"---------------\")\n",
        "z = y.add_(x)\n",
        "print(z)\n",
        "print(y)"
      ],
      "execution_count": null,
      "outputs": [
        {
          "output_type": "stream",
          "text": [
            "tensor([[2., 2.],\n",
            "        [2., 2.],\n",
            "        [2., 2.]])\n",
            "tensor([[1., 1.],\n",
            "        [1., 1.],\n",
            "        [1., 1.]])\n",
            "---------------\n",
            "tensor([[2., 2.],\n",
            "        [2., 2.],\n",
            "        [2., 2.]])\n",
            "tensor([[2., 2.],\n",
            "        [2., 2.],\n",
            "        [2., 2.]])\n"
          ],
          "name": "stdout"
        }
      ]
    },
    {
      "cell_type": "markdown",
      "metadata": {
        "id": "WwhiQnTahCY0"
      },
      "source": [
        "# NumPy <> PyTorch"
      ]
    },
    {
      "cell_type": "code",
      "metadata": {
        "colab": {
          "base_uri": "https://localhost:8080/"
        },
        "id": "1zXvZWPFgaxT",
        "outputId": "73a8d538-77db-48d5-a674-c9fdbf148925"
      },
      "source": [
        "x_np = x.numpy()\n",
        "print(type(x), type(x_np))\n",
        "print(x_np)"
      ],
      "execution_count": null,
      "outputs": [
        {
          "output_type": "stream",
          "text": [
            "<class 'torch.Tensor'> <class 'numpy.ndarray'>\n",
            "[[1. 1.]\n",
            " [1. 1.]\n",
            " [1. 1.]]\n"
          ],
          "name": "stdout"
        }
      ]
    },
    {
      "cell_type": "code",
      "metadata": {
        "colab": {
          "base_uri": "https://localhost:8080/"
        },
        "id": "hk_pOIW9hal7",
        "outputId": "44ec723a-467c-417d-abf5-48fa06f9b6ba"
      },
      "source": [
        "a = np.random.randn(3, 2)\n",
        "a_pt = torch.from_numpy(a)\n",
        "print(type(a), type(a_pt))\n",
        "print(a_pt)"
      ],
      "execution_count": null,
      "outputs": [
        {
          "output_type": "stream",
          "text": [
            "<class 'numpy.ndarray'> <class 'torch.Tensor'>\n",
            "tensor([[ 0.4432, -1.2318],\n",
            "        [-1.7743,  0.4947],\n",
            "        [ 0.8362, -0.8624]], dtype=torch.float64)\n"
          ],
          "name": "stdout"
        }
      ]
    },
    {
      "cell_type": "code",
      "metadata": {
        "colab": {
          "base_uri": "https://localhost:8080/"
        },
        "id": "7t91Rmjrht38",
        "outputId": "4f8b3b25-8477-4c1e-8ac5-63d0d249f7f0"
      },
      "source": [
        "np.add(a, 1, out=a)\n",
        "print(a)\n",
        "print(a_pt)"
      ],
      "execution_count": null,
      "outputs": [
        {
          "output_type": "stream",
          "text": [
            "[[ 1.44321241 -0.23182357]\n",
            " [-0.77434426  1.49474445]\n",
            " [ 1.8362174   0.13756052]]\n",
            "tensor([[ 1.4432, -0.2318],\n",
            "        [-0.7743,  1.4947],\n",
            "        [ 1.8362,  0.1376]], dtype=torch.float64)\n"
          ],
          "name": "stdout"
        }
      ]
    },
    {
      "cell_type": "code",
      "metadata": {
        "colab": {
          "base_uri": "https://localhost:8080/"
        },
        "id": "QepJG7Slh4m1",
        "outputId": "e1f4d35d-2e7f-4fa6-fd1d-2cca54d511ef"
      },
      "source": [
        "%%time\n",
        "for i in range(100):\n",
        "    a = np.random.randn(100, 100)\n",
        "    b = np.random.randn(100, 100)\n",
        "    c = np.matmul(a, b)"
      ],
      "execution_count": null,
      "outputs": [
        {
          "output_type": "stream",
          "text": [
            "CPU times: user 164 ms, sys: 104 ms, total: 268 ms\n",
            "Wall time: 141 ms\n"
          ],
          "name": "stdout"
        }
      ]
    },
    {
      "cell_type": "code",
      "metadata": {
        "colab": {
          "base_uri": "https://localhost:8080/"
        },
        "id": "sLoRvvnMiY3J",
        "outputId": "e4ff2fd1-f245-41f9-d7b2-9f27f8d98a65"
      },
      "source": [
        "%%time\n",
        "for i in range(100):\n",
        "    a = torch.randn(100, 100)\n",
        "    b = torch.randn(100, 100)\n",
        "    c = torch.matmul(a, b)"
      ],
      "execution_count": null,
      "outputs": [
        {
          "output_type": "stream",
          "text": [
            "CPU times: user 31.3 ms, sys: 0 ns, total: 31.3 ms\n",
            "Wall time: 32.1 ms\n"
          ],
          "name": "stdout"
        }
      ]
    },
    {
      "cell_type": "code",
      "metadata": {
        "colab": {
          "base_uri": "https://localhost:8080/"
        },
        "id": "u8vCnpfLjT2D",
        "outputId": "17a740fc-4f4f-485e-d940-93b740c2908d"
      },
      "source": [
        "%%time\n",
        "for i in range(10):\n",
        "    a = np.random.randn(10000, 10000)\n",
        "    b = np.random.randn(10000, 10000)\n",
        "    c = a + b"
      ],
      "execution_count": null,
      "outputs": [
        {
          "output_type": "stream",
          "text": [
            "CPU times: user 1min 27s, sys: 1.2 s, total: 1min 28s\n",
            "Wall time: 1min 28s\n"
          ],
          "name": "stdout"
        }
      ]
    },
    {
      "cell_type": "code",
      "metadata": {
        "colab": {
          "base_uri": "https://localhost:8080/"
        },
        "id": "sXjffU1zign6",
        "outputId": "f516ea83-be69-4756-fbb2-85f401cb7e0e"
      },
      "source": [
        "%%time\n",
        "for i in range(10):\n",
        "    a = torch.randn(10000, 10000)\n",
        "    b = torch.randn(10000, 10000)\n",
        "    c = a + b"
      ],
      "execution_count": null,
      "outputs": [
        {
          "output_type": "stream",
          "text": [
            "CPU times: user 22.7 s, sys: 88.9 ms, total: 22.8 s\n",
            "Wall time: 22.8 s\n"
          ],
          "name": "stdout"
        }
      ]
    },
    {
      "cell_type": "markdown",
      "metadata": {
        "id": "R6ZcaSCuj0-F"
      },
      "source": [
        "# CUDA Support "
      ]
    },
    {
      "cell_type": "code",
      "metadata": {
        "colab": {
          "base_uri": "https://localhost:8080/"
        },
        "id": "WYQE1F8XjOg0",
        "outputId": "7775631c-b441-4f68-dc70-1d94fd66d5ab"
      },
      "source": [
        "print(torch.cuda.device_count())"
      ],
      "execution_count": null,
      "outputs": [
        {
          "output_type": "stream",
          "text": [
            "1\n"
          ],
          "name": "stdout"
        }
      ]
    },
    {
      "cell_type": "code",
      "metadata": {
        "colab": {
          "base_uri": "https://localhost:8080/"
        },
        "id": "jKfzkfxvkcwb",
        "outputId": "55be698f-c8e8-4cd0-ebad-965e58034b78"
      },
      "source": [
        "print(torch.cuda.device(0))\n",
        "print(torch.cuda.get_device_name())"
      ],
      "execution_count": 12,
      "outputs": [
        {
          "output_type": "stream",
          "text": [
            "<torch.cuda.device object at 0x7f99edd78dd0>\n",
            "Tesla P100-PCIE-16GB\n"
          ],
          "name": "stdout"
        }
      ]
    },
    {
      "cell_type": "code",
      "metadata": {
        "id": "KImhqx9Ck6VD"
      },
      "source": [
        "cuda0 = torch.device('cuda:0')"
      ],
      "execution_count": 13,
      "outputs": []
    },
    {
      "cell_type": "code",
      "metadata": {
        "colab": {
          "base_uri": "https://localhost:8080/"
        },
        "id": "DDSjnNlFl02B",
        "outputId": "df10b725-55b1-4b03-d83c-5427d3ec20a1"
      },
      "source": [
        "a = torch.ones(3, 2, device=cuda0)\n",
        "b = torch.ones(3, 2, device=cuda0)\n",
        "c = a + b\n",
        "print(a, b, c)"
      ],
      "execution_count": null,
      "outputs": [
        {
          "output_type": "stream",
          "text": [
            "tensor([[1., 1.],\n",
            "        [1., 1.],\n",
            "        [1., 1.]], device='cuda:0') tensor([[1., 1.],\n",
            "        [1., 1.],\n",
            "        [1., 1.]], device='cuda:0') tensor([[2., 2.],\n",
            "        [2., 2.],\n",
            "        [2., 2.]], device='cuda:0')\n"
          ],
          "name": "stdout"
        }
      ]
    },
    {
      "cell_type": "code",
      "metadata": {
        "colab": {
          "base_uri": "https://localhost:8080/"
        },
        "id": "MdLy6VYsmTS2",
        "outputId": "7360f64e-0ff4-4e82-c160-51d46a62acda"
      },
      "source": [
        "%%time\n",
        "for i in range(10):\n",
        "    a = np.random.randn(10000, 10000)\n",
        "    b = np.random.randn(10000, 10000)\n",
        "    np.add(a, b)"
      ],
      "execution_count": null,
      "outputs": [
        {
          "output_type": "stream",
          "text": [
            "CPU times: user 1min 15s, sys: 68.2 ms, total: 1min 15s\n",
            "Wall time: 1min 15s\n"
          ],
          "name": "stdout"
        }
      ]
    },
    {
      "cell_type": "code",
      "metadata": {
        "colab": {
          "base_uri": "https://localhost:8080/"
        },
        "id": "XyNaYysbmWO2",
        "outputId": "ba40623b-8b9c-4064-bf1e-8957892e90af"
      },
      "source": [
        "%%time\n",
        "for i in range(10):\n",
        "    a = torch.randn([10000, 10000])\n",
        "    b = torch.randn([10000, 10000])\n",
        "    b.add_(a)"
      ],
      "execution_count": null,
      "outputs": [
        {
          "output_type": "stream",
          "text": [
            "CPU times: user 18.2 s, sys: 20.8 ms, total: 18.3 s\n",
            "Wall time: 18.2 s\n"
          ],
          "name": "stdout"
        }
      ]
    },
    {
      "cell_type": "code",
      "metadata": {
        "colab": {
          "base_uri": "https://localhost:8080/"
        },
        "id": "jy4HXzJHmATw",
        "outputId": "17784883-a8d5-49cc-dd26-e10f0baa252d"
      },
      "source": [
        "%%time\n",
        "for i in range(10):\n",
        "    a = torch.randn([10000, 10000], device=cuda0)\n",
        "    b = torch.randn([10000, 10000], device=cuda0)\n",
        "    b.add_(a)"
      ],
      "execution_count": null,
      "outputs": [
        {
          "output_type": "stream",
          "text": [
            "CPU times: user 2.46 ms, sys: 5 µs, total: 2.47 ms\n",
            "Wall time: 1.83 ms\n"
          ],
          "name": "stdout"
        }
      ]
    },
    {
      "cell_type": "code",
      "metadata": {
        "colab": {
          "base_uri": "https://localhost:8080/"
        },
        "id": "K0iTwDZtmNM6",
        "outputId": "a6035556-77e0-48a6-8f67-3fddc938a5c6"
      },
      "source": [
        "%%time\n",
        "for i in range(10):\n",
        "    a = np.random.randn(10000, 10000)\n",
        "    b = np.random.randn(10000, 10000)\n",
        "    np.matmul(a, b)"
      ],
      "execution_count": null,
      "outputs": [
        {
          "output_type": "stream",
          "text": [
            "CPU times: user 12min 33s, sys: 5.76 s, total: 12min 39s\n",
            "Wall time: 7min 1s\n"
          ],
          "name": "stdout"
        }
      ]
    },
    {
      "cell_type": "code",
      "metadata": {
        "colab": {
          "base_uri": "https://localhost:8080/"
        },
        "id": "1rxLrn4cnqpi",
        "outputId": "4ab51e5d-4625-48ee-d071-73af067c9019"
      },
      "source": [
        "%%time\n",
        "for i in range(10):\n",
        "    a = torch.randn([10000, 10000])\n",
        "    b = torch.randn([10000, 10000])\n",
        "    torch.matmul(b, a)"
      ],
      "execution_count": null,
      "outputs": [
        {
          "output_type": "stream",
          "text": [
            "CPU times: user 2min 50s, sys: 178 ms, total: 2min 50s\n",
            "Wall time: 2min 49s\n"
          ],
          "name": "stdout"
        }
      ]
    },
    {
      "cell_type": "code",
      "metadata": {
        "colab": {
          "base_uri": "https://localhost:8080/"
        },
        "id": "Mpep-lDCnjPr",
        "outputId": "185e1f96-4c54-439e-b357-4865482ed859"
      },
      "source": [
        "%%time\n",
        "for i in range(10):\n",
        "    a = torch.randn([10000, 10000], device=cuda0)\n",
        "    b = torch.randn([10000, 10000], device=cuda0)\n",
        "    torch.matmul(b, a)"
      ],
      "execution_count": null,
      "outputs": [
        {
          "output_type": "stream",
          "text": [
            "CPU times: user 3.22 ms, sys: 995 µs, total: 4.22 ms\n",
            "Wall time: 12.1 ms\n"
          ],
          "name": "stdout"
        }
      ]
    },
    {
      "cell_type": "markdown",
      "metadata": {
        "id": "JTQKkKJ7r9st"
      },
      "source": [
        "# Autograd"
      ]
    },
    {
      "cell_type": "code",
      "metadata": {
        "colab": {
          "base_uri": "https://localhost:8080/"
        },
        "id": "FtQ_HOP5nuuD",
        "outputId": "5c9234e6-1a41-46fe-bff4-f6e901a23e14"
      },
      "source": [
        "x = torch.ones([3, 2], requires_grad=True)\n",
        "print(x)"
      ],
      "execution_count": 2,
      "outputs": [
        {
          "output_type": "stream",
          "text": [
            "tensor([[1., 1.],\n",
            "        [1., 1.],\n",
            "        [1., 1.]], requires_grad=True)\n"
          ],
          "name": "stdout"
        }
      ]
    },
    {
      "cell_type": "code",
      "metadata": {
        "colab": {
          "base_uri": "https://localhost:8080/"
        },
        "id": "zw4foNFUsGVh",
        "outputId": "69d16920-cd43-4020-b491-4d6a83f3c8d5"
      },
      "source": [
        "y = x + 5\n",
        "print(y)"
      ],
      "execution_count": 3,
      "outputs": [
        {
          "output_type": "stream",
          "text": [
            "tensor([[6., 6.],\n",
            "        [6., 6.],\n",
            "        [6., 6.]], grad_fn=<AddBackward0>)\n"
          ],
          "name": "stdout"
        }
      ]
    },
    {
      "cell_type": "code",
      "metadata": {
        "id": "s1XT1JL5sNmX",
        "colab": {
          "base_uri": "https://localhost:8080/"
        },
        "outputId": "826afb12-bdf3-4bfb-cbc3-100eb1b6d6b9"
      },
      "source": [
        "z = y * y + 1\n",
        "print(z)"
      ],
      "execution_count": 4,
      "outputs": [
        {
          "output_type": "stream",
          "text": [
            "tensor([[37., 37.],\n",
            "        [37., 37.],\n",
            "        [37., 37.]], grad_fn=<AddBackward0>)\n"
          ],
          "name": "stdout"
        }
      ]
    },
    {
      "cell_type": "code",
      "metadata": {
        "colab": {
          "base_uri": "https://localhost:8080/"
        },
        "id": "0yD4Gl4FGHju",
        "outputId": "a6057e7e-7d39-4f90-98ab-fdaec817a801"
      },
      "source": [
        "t = torch.sum(z)\n",
        "print(t)"
      ],
      "execution_count": 5,
      "outputs": [
        {
          "output_type": "stream",
          "text": [
            "tensor(222., grad_fn=<SumBackward0>)\n"
          ],
          "name": "stdout"
        }
      ]
    },
    {
      "cell_type": "code",
      "metadata": {
        "id": "5VBB8c5EGNVC"
      },
      "source": [
        "t.backward()"
      ],
      "execution_count": 6,
      "outputs": []
    },
    {
      "cell_type": "code",
      "metadata": {
        "colab": {
          "base_uri": "https://localhost:8080/"
        },
        "id": "FTknq6R4GeUY",
        "outputId": "b90a054e-cf56-4d36-94f4-b5cc4d72ce75"
      },
      "source": [
        "print(x.grad)"
      ],
      "execution_count": 7,
      "outputs": [
        {
          "output_type": "stream",
          "text": [
            "tensor([[12., 12.],\n",
            "        [12., 12.],\n",
            "        [12., 12.]])\n"
          ],
          "name": "stdout"
        }
      ]
    },
    {
      "cell_type": "code",
      "metadata": {
        "colab": {
          "base_uri": "https://localhost:8080/"
        },
        "id": "N4gbfblBGhNJ",
        "outputId": "b5cd6562-488a-452f-e6fd-57481d4036c0"
      },
      "source": [
        "x = torch.ones([3, 2], requires_grad=True)\n",
        "y = x + 5\n",
        "r = 1 / (1 + torch.exp(-y))\n",
        "print(r)\n",
        "s = torch.sum(r)\n",
        "s.backward()\n",
        "print(x.grad)"
      ],
      "execution_count": 8,
      "outputs": [
        {
          "output_type": "stream",
          "text": [
            "tensor([[0.9975, 0.9975],\n",
            "        [0.9975, 0.9975],\n",
            "        [0.9975, 0.9975]], grad_fn=<MulBackward0>)\n",
            "tensor([[0.0025, 0.0025],\n",
            "        [0.0025, 0.0025],\n",
            "        [0.0025, 0.0025]])\n"
          ],
          "name": "stdout"
        }
      ]
    },
    {
      "cell_type": "code",
      "metadata": {
        "colab": {
          "base_uri": "https://localhost:8080/"
        },
        "id": "l3ubFsvhHifD",
        "outputId": "cc59812b-2c4b-487b-86c8-68e6d5d9220b"
      },
      "source": [
        "x = torch.ones([3, 2], requires_grad=True)\n",
        "y = x + 5\n",
        "r = 1 / (1 + torch.exp(-y))\n",
        "a = torch.ones([3, 2], requires_grad=True)\n",
        "r.backward(a)\n",
        "print(x.grad)"
      ],
      "execution_count": 9,
      "outputs": [
        {
          "output_type": "stream",
          "text": [
            "tensor([[0.0025, 0.0025],\n",
            "        [0.0025, 0.0025],\n",
            "        [0.0025, 0.0025]])\n"
          ],
          "name": "stdout"
        }
      ]
    },
    {
      "cell_type": "markdown",
      "metadata": {
        "id": "FCXoBS3rPRCZ"
      },
      "source": [
        "# autograd & Loss function"
      ]
    },
    {
      "cell_type": "code",
      "metadata": {
        "id": "Bc7_Ee-1Iotf"
      },
      "source": [
        "x = torch.randn([20, 1], requires_grad=True)\n",
        "y = 3*x - 2"
      ],
      "execution_count": 19,
      "outputs": []
    },
    {
      "cell_type": "code",
      "metadata": {
        "id": "93v3RoJdPjli"
      },
      "source": [
        "w = torch.tensor([1.], requires_grad=True)\n",
        "b = torch.tensor([1.], requires_grad=True)\n",
        "y_hat = w*x + b\n",
        "\n",
        "loss = torch.sum((y_hat - y) ** 2)"
      ],
      "execution_count": 20,
      "outputs": []
    },
    {
      "cell_type": "code",
      "metadata": {
        "colab": {
          "base_uri": "https://localhost:8080/"
        },
        "id": "afO5FMulP0WC",
        "outputId": "13ef2e5c-4cd8-478e-ac7f-2a2663186c6a"
      },
      "source": [
        "print(loss)"
      ],
      "execution_count": 21,
      "outputs": [
        {
          "output_type": "stream",
          "text": [
            "tensor(266.1360, grad_fn=<SumBackward0>)\n"
          ],
          "name": "stdout"
        }
      ]
    },
    {
      "cell_type": "code",
      "metadata": {
        "id": "SI1RMq4jP1jS"
      },
      "source": [
        "loss.backward()"
      ],
      "execution_count": 22,
      "outputs": []
    },
    {
      "cell_type": "code",
      "metadata": {
        "colab": {
          "base_uri": "https://localhost:8080/"
        },
        "id": "IYoAuwYmP4ey",
        "outputId": "014562eb-8f49-46f2-a288-adaebe0436f3"
      },
      "source": [
        "print(w.grad, b.grad)"
      ],
      "execution_count": 23,
      "outputs": [
        {
          "output_type": "stream",
          "text": [
            "tensor([-85.6028]) tensor([120.3555])\n"
          ],
          "name": "stdout"
        }
      ]
    },
    {
      "cell_type": "markdown",
      "metadata": {
        "id": "kCiTVm8FRNqK"
      },
      "source": [
        "# Loop for Loss "
      ]
    },
    {
      "cell_type": "code",
      "metadata": {
        "colab": {
          "base_uri": "https://localhost:8080/"
        },
        "id": "CCGU5ouLP7KS",
        "outputId": "ba2c534d-f8a9-4a7f-b9fe-605b3b9bbfc9"
      },
      "source": [
        "learning_rate = 0.01\n",
        "w = torch.tensor([1.], requires_grad=True)\n",
        "b = torch.tensor([1.], requires_grad=True)\n",
        "print(w.item(), b.item())\n",
        "\n",
        "for i in range(10):\n",
        "    x = torch.randn([20, 1])\n",
        "    y = 3*x - 2\n",
        "\n",
        "    y_hat = w*x + b\n",
        "    loss = torch.sum((y_hat - y)**2)\n",
        "\n",
        "    loss.backward()\n",
        "\n",
        "    with torch.no_grad():\n",
        "        w -= learning_rate * w.grad\n",
        "        b -= learning_rate * w.grad\n",
        "    \n",
        "        w.grad.zero_()\n",
        "        b.grad.zero_()\n",
        "    print(w.item(), b.item())\n"
      ],
      "execution_count": 4,
      "outputs": [
        {
          "output_type": "stream",
          "text": [
            "1.0 1.0\n",
            "1.7100043296813965 1.7100043296813965\n",
            "2.2627620697021484 2.2627620697021484\n",
            "2.463947296142578 2.463947296142578\n",
            "2.5571177005767822 2.5571177005767822\n",
            "2.754178285598755 2.754178285598755\n",
            "3.234315872192383 3.234315872192383\n",
            "2.7839300632476807 2.7839300632476807\n",
            "2.835768461227417 2.835768461227417\n",
            "3.3014588356018066 3.3014588356018066\n",
            "3.445589303970337 3.445589303970337\n"
          ],
          "name": "stdout"
        }
      ]
    },
    {
      "cell_type": "code",
      "metadata": {
        "colab": {
          "base_uri": "https://localhost:8080/"
        },
        "id": "UAfDVlORQhyd",
        "outputId": "148439c4-9afe-4011-e0be-4b30494f45a3"
      },
      "source": [
        "%%time\n",
        "learning_rate = 0.001\n",
        "N = 10000000\n",
        "epochs = 200\n",
        "\n",
        "w = torch.randn([N], requires_grad=True)\n",
        "b = torch.ones([1], requires_grad=True)\n",
        "\n",
        "for i in range(epochs):\n",
        "\n",
        "    x = torch.randn([N])\n",
        "    y = torch.dot(3 * torch.ones([N]), x) - 2\n",
        "\n",
        "    y_hat = torch.dot(w, x) + b\n",
        "    loss = torch.sum((y_hat - y)**2)\n",
        "\n",
        "    loss.backward()\n",
        "\n",
        "    with torch.no_grad():\n",
        "        w -= learning_rate * w.grad\n",
        "        b -= learning_rate * b.grad\n",
        "\n",
        "        w.grad.zero_()\n",
        "        b.grad.zero_()\n",
        "\n",
        "    # print(torch.mean(w).item(), b.item())"
      ],
      "execution_count": 20,
      "outputs": [
        {
          "output_type": "stream",
          "text": [
            "CPU times: user 29.9 s, sys: 273 ms, total: 30.1 s\n",
            "Wall time: 30 s\n"
          ],
          "name": "stdout"
        }
      ]
    },
    {
      "cell_type": "code",
      "metadata": {
        "colab": {
          "base_uri": "https://localhost:8080/"
        },
        "id": "s4ng4iB3cj4A",
        "outputId": "1deeeadc-3acc-4aa0-db78-feea8393701c"
      },
      "source": [
        "%%time\n",
        "learning_rate = 0.001\n",
        "N = 10000000\n",
        "epochs = 200\n",
        "\n",
        "w = torch.randn([N], requires_grad=True, device=cuda0)\n",
        "b = torch.ones([1], requires_grad=True, device=cuda0)\n",
        "\n",
        "for i in range(epochs):\n",
        "\n",
        "    x = torch.randn([N], device=cuda0)\n",
        "    y = torch.dot(3 * torch.ones([N], device=cuda0), x) - 2\n",
        "\n",
        "    y_hat = torch.dot(w, x) + b\n",
        "    loss = torch.sum((y_hat - y)**2)\n",
        "\n",
        "    loss.backward()\n",
        "\n",
        "    with torch.no_grad():\n",
        "        w -= learning_rate * w.grad\n",
        "        b -= learning_rate * b.grad\n",
        "\n",
        "        w.grad.zero_()\n",
        "        b.grad.zero_()\n",
        "\n",
        "    # print(torch.mean(w).item(), b.item())"
      ],
      "execution_count": 22,
      "outputs": [
        {
          "output_type": "stream",
          "text": [
            "CPU times: user 165 ms, sys: 92.6 ms, total: 257 ms\n",
            "Wall time: 261 ms\n"
          ],
          "name": "stdout"
        }
      ]
    },
    {
      "cell_type": "code",
      "metadata": {
        "id": "LZ88ib16eZSj"
      },
      "source": [
        ""
      ],
      "execution_count": null,
      "outputs": []
    }
  ]
}